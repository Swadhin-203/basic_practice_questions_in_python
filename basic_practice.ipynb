{
 "cells": [
  {
   "cell_type": "markdown",
   "id": "f1303e2a-2bc3-43ab-81db-05d21c3ad640",
   "metadata": {},
   "source": [
    " 1. Write a menu driven program to convert the given temperature from Fahrenheit to Celsius and vice versa depending upon users choice."
   ]
  },
  {
   "cell_type": "code",
   "execution_count": 2,
   "id": "3116b8af-e1b8-40ca-ae59-b1177578aa3a",
   "metadata": {},
   "outputs": [
    {
     "name": "stdout",
     "output_type": "stream",
     "text": [
      "1. Fahrentie to celsius\n",
      "2. Celsious to faherenit\n"
     ]
    },
    {
     "name": "stdin",
     "output_type": "stream",
     "text": [
      "Enter your choice: 1\n",
      "Enter the temperature in  Fahrenheit: 12\n"
     ]
    },
    {
     "name": "stdout",
     "output_type": "stream",
     "text": [
      "12 fahrenheit is -11.11111111111111 celcius\n"
     ]
    }
   ],
   "source": [
    "def fa(fa):\n",
    "    return (fa-32)*(5/9)\n",
    "def ce(ce):\n",
    "    return (ce*(9/5))+32\n",
    "print(\"1. Fahrentie to celsius\")\n",
    "print(\"2. Celsious to faherenit\")\n",
    "choice=int(input(\"Enter your choice:\"))\n",
    "if choice==1:\n",
    "    f_temp=int(input(\"Enter the temperature in  Fahrenheit:\"))\n",
    "    print(f\"{f_temp} fahrenheit is {fa(f_temp)} celcius\")\n",
    "elif choice==2:\n",
    "    c_temp=int(input(\"Enter the temperature in  Fahrenheit:\"))\n",
    "    print(f\"{f_temp} celcisus  is {ce(c_temp)} fahrenheit\")\n",
    "else:\n",
    "    print(\"Enter a valid choice \")\n",
    "    "
   ]
  },
  {
   "cell_type": "markdown",
   "id": "e453e65a-644d-4ea2-9603-08f21dd606f3",
   "metadata": {},
   "source": [
    "2. Write a Program to calculate total marks, percentage and grade of a student. Marks\n",
    "obtained in each of the three subjects are to be input by the user. Assign grades according to\n",
    "the following criteria:\n",
    "Grade A: Percentage >=80\n",
    "Grade B: Percentage>=70 and <80\n",
    "Grade C: Percentage>=60 and <70\n",
    "Grade D: Percentage>=40 and <60\n",
    "Grade E: Percentage<40"
   ]
  },
  {
   "cell_type": "code",
   "execution_count": 3,
   "id": "5b53b913-0a26-4785-9dcd-8dc65bd13d36",
   "metadata": {},
   "outputs": [
    {
     "name": "stdin",
     "output_type": "stream",
     "text": [
      "Enter the mark of sub1:  90\n",
      "Enter the  mark of sub2:  91\n",
      "Enter the mark of sub3:  92\n"
     ]
    },
    {
     "name": "stdout",
     "output_type": "stream",
     "text": [
      "The total Mark obtained by the student is  273.0\n",
      "Percentage Secured:  91.0\n",
      "Grade is A\n"
     ]
    }
   ],
   "source": [
    "sub1=float(input(\"Enter the mark of sub1: \"))\n",
    "sub2=float(input(\"Enter the  mark of sub2: \"))\n",
    "sub3=float(input(\"Enter the mark of sub3: \"))\n",
    "total=sub1+sub2+sub3\n",
    "print(\"The total Mark obtained by the student is \",total)\n",
    "percentage=(total/300)*100\n",
    "print(\"Percentage Secured: \",percentage)\n",
    "if percentage>=80:\n",
    "    print(\"Grade is A\")\n",
    "elif percentage>=70 and percentage<80:\n",
    "    print(\"Grade is B\")\n",
    "elif percentage>=60 and percentage<70:\n",
    "    print(\"Grade is C\")\n",
    "elif percentage>=40 and percentage<60:\n",
    "    print(\"Grade is D\")\n",
    "else:\n",
    "    print(\"Grade is E\")"
   ]
  },
  {
   "cell_type": "markdown",
   "id": "6d35e526-8a35-43ba-873d-faf90e9598c1",
   "metadata": {},
   "source": [
    "3. Write a menu-driven program, using user-defined functions to find the area of\n",
    "rectangle, square, circle and triangle by accepting suitable input parameters from user."
   ]
  },
  {
   "cell_type": "code",
   "execution_count": 5,
   "id": "b461eded-b051-47d5-82df-d08603fad702",
   "metadata": {},
   "outputs": [
    {
     "name": "stdout",
     "output_type": "stream",
     "text": [
      "Enter your choice\n",
      "             1. To find are of Rectangle \n",
      "             2. To find area of Square\n",
      "             3. To find area of Circle\n",
      "             4 To find are of Triangle\n",
      "             5.To Exit\n",
      "             \n",
      "    \n"
     ]
    },
    {
     "name": "stdin",
     "output_type": "stream",
     "text": [
      "Enter your choice:  1\n",
      "Enter the length and bredth of the rectangle 12 13\n"
     ]
    },
    {
     "name": "stdout",
     "output_type": "stream",
     "text": [
      "Area of the rectangle is  156.0\n",
      "Enter your choice\n",
      "             1. To find are of Rectangle \n",
      "             2. To find area of Square\n",
      "             3. To find area of Circle\n",
      "             4 To find are of Triangle\n",
      "             5.To Exit\n",
      "             \n",
      "    \n"
     ]
    },
    {
     "name": "stdin",
     "output_type": "stream",
     "text": [
      "Enter your choice:  5\n"
     ]
    }
   ],
   "source": [
    "def rectangle(l,b):\n",
    "    area=l*b\n",
    "    print(\"Area of the rectangle is \",area)\n",
    "def square(l):\n",
    "    area=l*l\n",
    "    print(\"Area of the square is \",square)\n",
    "def circle(r):\n",
    "    print(\"Area of the circle is \",3.14*r*r)\n",
    "def triangle(b,h):\n",
    "    print(\"Area of the triangle is \",0.5*b*h)\n",
    "while True:\n",
    "    print(\"\"\"Enter your choice\n",
    "             1. To find are of Rectangle \n",
    "             2. To find area of Square\n",
    "             3. To find area of Circle\n",
    "             4 To find are of Triangle\n",
    "             5.To Exit\n",
    "             \n",
    "    \"\"\")\n",
    "    choice=int(input(\"Enter your choice: \"))\n",
    "    if choice==1:\n",
    "        length,bredth=[float(x) for x in input(\"Enter the length and bredth of the rectangle\").split()]\n",
    "        rectangle(length,bredth)\n",
    "    elif choice==2:\n",
    "        length=float(input(\"Enter the length of the square: \"))\n",
    "        square(length)\n",
    "    elif choice==3:\n",
    "        rad=float(input(\"Enter the radious of a circle: \"))\n",
    "        circle(rad)\n",
    "    elif choice==4:\n",
    "        base,height=[float(x) for x in input(\"Enter the base and height of the  triangle\").split()]\n",
    "        triangle(base, height)\n",
    "    elif choice==5:\n",
    "        break\n",
    "    else:\n",
    "        print(\"Please provide valid value\")\n",
    "        "
   ]
  },
  {
   "cell_type": "markdown",
   "id": "58203301-4df9-49e6-8eae-8b1894ab436d",
   "metadata": {},
   "source": [
    "4. Write a Program to display the first n terms of Fibonacci series."
   ]
  },
  {
   "cell_type": "code",
   "execution_count": 11,
   "id": "40aa93b1-4a94-4011-b4aa-9b8c60131ed6",
   "metadata": {},
   "outputs": [
    {
     "name": "stdin",
     "output_type": "stream",
     "text": [
      "Enter the no. of terms:  5\n"
     ]
    },
    {
     "name": "stdout",
     "output_type": "stream",
     "text": [
      "0\n",
      "1\n",
      "1\n",
      "2\n",
      "3\n"
     ]
    }
   ],
   "source": [
    "n=int(input(\"Enter the no. of terms: \"))\n",
    "a,b=0,1\n",
    "for x in range(1,n+1):\n",
    "    c=a+b\n",
    "    print(a)\n",
    "    a=b\n",
    "    b=c"
   ]
  },
  {
   "cell_type": "markdown",
   "id": "9c48d19b-0ed0-43c9-acbc-c28087191162",
   "metadata": {},
   "source": [
    "5. Write a Program to find factorial of the given number."
   ]
  },
  {
   "cell_type": "code",
   "execution_count": 13,
   "id": "76d28a35-5f89-4905-bbcf-45b547822692",
   "metadata": {},
   "outputs": [
    {
     "name": "stdin",
     "output_type": "stream",
     "text": [
      "Enter a number:  5\n"
     ]
    },
    {
     "name": "stdout",
     "output_type": "stream",
     "text": [
      "Factorial of the number 5 is 120\n"
     ]
    }
   ],
   "source": [
    "num=int(input(\"Enter a number: \"))\n",
    "fact=1\n",
    "for x in range(1,num+1):\n",
    "    fact=fact*x\n",
    "print(f\"Factorial of the number {num} is {fact}\")"
   ]
  },
  {
   "cell_type": "code",
   "execution_count": null,
   "id": "2e9c3220-2e20-41b5-b2bd-a31025d73a5a",
   "metadata": {},
   "outputs": [],
   "source": []
  }
 ],
 "metadata": {
  "kernelspec": {
   "display_name": "Python 3 (ipykernel)",
   "language": "python",
   "name": "python3"
  },
  "language_info": {
   "codemirror_mode": {
    "name": "ipython",
    "version": 3
   },
   "file_extension": ".py",
   "mimetype": "text/x-python",
   "name": "python",
   "nbconvert_exporter": "python",
   "pygments_lexer": "ipython3",
   "version": "3.11.4"
  },
  "widgets": {
   "application/vnd.jupyter.widget-state+json": {
    "state": {},
    "version_major": 2,
    "version_minor": 0
   }
  }
 },
 "nbformat": 4,
 "nbformat_minor": 5
}
